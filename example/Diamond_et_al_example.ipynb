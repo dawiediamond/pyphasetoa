{
 "cells": [
  {
   "cell_type": "markdown",
   "metadata": {},
   "source": [
    "# Welcome to the started notebook for pyphasetoa"
   ]
  },
  {
   "cell_type": "markdown",
   "metadata": {},
   "source": [
    "## To install pyphasetoa\n",
    "\n",
    "```\n",
    "git clone https://github.com/dawiediamond/pyphasetoa.git\n",
    "cd pyphasetoa\n",
    "pip install -e .\n",
    "\n",
    "```"
   ]
  },
  {
   "cell_type": "markdown",
   "metadata": {},
   "source": [
    "### The below code shows how to run a single example"
   ]
  },
  {
   "cell_type": "code",
   "execution_count": 1,
   "metadata": {},
   "outputs": [
    {
     "name": "stdout",
     "output_type": "stream",
     "text": [
      "Using matplotlib backend: Qt5Agg\n"
     ]
    }
   ],
   "source": [
    "from pyphasetoa import pyphasetoa\n",
    "from scipy.io import loadmat\n",
    "from pprint import pprint\n",
    "from matplotlib import pyplot as plt\n",
    "from time import time\n",
    "import seaborn as sns\n",
    "from scipy.signal import hilbert\n",
    "from scipy.interpolate import interp1d\n",
    "import numpy as np\n",
    "import scipy.fftpack\n",
    "from tqdm import tqdm\n",
    "from importlib import reload\n",
    "from time import time\n",
    "import pandas as pd\n",
    "def diff_flat(df1, df2):\n",
    "    return abs(df1 - df2).values.flatten()\n",
    "%matplotlib auto"
   ]
  },
  {
   "cell_type": "code",
   "execution_count": 2,
   "metadata": {},
   "outputs": [],
   "source": [
    "# Load signals. Load them in batches of 2.5 million samples to keep memory consumption down\n",
    "signals = []\n",
    "Tacho = loadmat('./600_RPM_TACHO.mat')['K1'].T[0]\n",
    "S1 = loadmat('./600_RPM_PROBE.mat')['K1'].T[0]\n",
    "dt = 1.0/2e6\n"
   ]
  },
  {
   "cell_type": "code",
   "execution_count": 11,
   "metadata": {},
   "outputs": [
    {
     "name": "stderr",
     "output_type": "stream",
     "text": [
      "100%|██████████| 12/12 [00:00<00:00, 24.68it/s]\n"
     ]
    }
   ],
   "source": [
    "\n",
    "param_dict = {\n",
    "                'phase':{\n",
    "                    'rho' : 0.012,\n",
    "                    'filtlen':1601\n",
    "                },\n",
    "                'threshold':{\n",
    "                    'threshold_value':-4.7,\n",
    "                    'gradient':1\n",
    "                }\n",
    "            }\n",
    "\n",
    "for start, end in zip(np.arange(0,20000000+1, 2500000)[:-1],np.arange(0,20000000+1, 2500000)[1:]):\n",
    "    signal = pyphasetoa.bttSignal(Tacho[start:end], dt, S1[start:end], dt, 78)\n",
    "    break\n",
    "tip_displacements = signal.calculateX(decimation=1, params=param_dict)"
   ]
  },
  {
   "cell_type": "code",
   "execution_count": 12,
   "metadata": {},
   "outputs": [
    {
     "data": {
      "text/html": [
       "<div>\n",
       "<style scoped>\n",
       "    .dataframe tbody tr th:only-of-type {\n",
       "        vertical-align: middle;\n",
       "    }\n",
       "\n",
       "    .dataframe tbody tr th {\n",
       "        vertical-align: top;\n",
       "    }\n",
       "\n",
       "    .dataframe thead th {\n",
       "        text-align: right;\n",
       "    }\n",
       "</style>\n",
       "<table border=\"1\" class=\"dataframe\">\n",
       "  <thead>\n",
       "    <tr style=\"text-align: right;\">\n",
       "      <th></th>\n",
       "      <th>0</th>\n",
       "      <th>1</th>\n",
       "      <th>2</th>\n",
       "      <th>3</th>\n",
       "      <th>4</th>\n",
       "    </tr>\n",
       "  </thead>\n",
       "  <tbody>\n",
       "    <tr>\n",
       "      <th>Rev 1</th>\n",
       "      <td>-666.942825</td>\n",
       "      <td>-910.488852</td>\n",
       "      <td>-991.651622</td>\n",
       "      <td>-802.476205</td>\n",
       "      <td>-68.583710</td>\n",
       "    </tr>\n",
       "    <tr>\n",
       "      <th>Rev 2</th>\n",
       "      <td>188.171525</td>\n",
       "      <td>521.834973</td>\n",
       "      <td>514.061761</td>\n",
       "      <td>288.951439</td>\n",
       "      <td>146.517630</td>\n",
       "    </tr>\n",
       "    <tr>\n",
       "      <th>Rev 3</th>\n",
       "      <td>494.183782</td>\n",
       "      <td>854.548494</td>\n",
       "      <td>850.823832</td>\n",
       "      <td>583.920825</td>\n",
       "      <td>232.056247</td>\n",
       "    </tr>\n",
       "    <tr>\n",
       "      <th>Rev 4</th>\n",
       "      <td>-261.450581</td>\n",
       "      <td>-548.187825</td>\n",
       "      <td>-557.796475</td>\n",
       "      <td>-419.014532</td>\n",
       "      <td>34.864008</td>\n",
       "    </tr>\n",
       "    <tr>\n",
       "      <th>Rev 5</th>\n",
       "      <td>636.720309</td>\n",
       "      <td>1064.023907</td>\n",
       "      <td>1123.363809</td>\n",
       "      <td>836.694032</td>\n",
       "      <td>268.932248</td>\n",
       "    </tr>\n",
       "    <tr>\n",
       "      <th>Rev 6</th>\n",
       "      <td>750.606238</td>\n",
       "      <td>1111.885630</td>\n",
       "      <td>999.905875</td>\n",
       "      <td>749.886691</td>\n",
       "      <td>110.968512</td>\n",
       "    </tr>\n",
       "    <tr>\n",
       "      <th>Rev 7</th>\n",
       "      <td>192.006462</td>\n",
       "      <td>177.851757</td>\n",
       "      <td>5.243586</td>\n",
       "      <td>-101.733003</td>\n",
       "      <td>31.291266</td>\n",
       "    </tr>\n",
       "    <tr>\n",
       "      <th>Rev 8</th>\n",
       "      <td>226.293038</td>\n",
       "      <td>349.480633</td>\n",
       "      <td>594.759019</td>\n",
       "      <td>578.870422</td>\n",
       "      <td>172.142183</td>\n",
       "    </tr>\n",
       "    <tr>\n",
       "      <th>Rev 9</th>\n",
       "      <td>360.407058</td>\n",
       "      <td>428.425383</td>\n",
       "      <td>510.394191</td>\n",
       "      <td>303.911291</td>\n",
       "      <td>32.290891</td>\n",
       "    </tr>\n",
       "    <tr>\n",
       "      <th>Rev 10</th>\n",
       "      <td>203.227325</td>\n",
       "      <td>150.110383</td>\n",
       "      <td>307.868943</td>\n",
       "      <td>236.721036</td>\n",
       "      <td>60.784820</td>\n",
       "    </tr>\n",
       "    <tr>\n",
       "      <th>Rev 11</th>\n",
       "      <td>-249.742142</td>\n",
       "      <td>-719.574604</td>\n",
       "      <td>-806.494438</td>\n",
       "      <td>-566.421370</td>\n",
       "      <td>-56.553871</td>\n",
       "    </tr>\n",
       "  </tbody>\n",
       "</table>\n",
       "</div>"
      ],
      "text/plain": [
       "                 0            1            2           3           4\n",
       "Rev 1  -666.942825  -910.488852  -991.651622 -802.476205  -68.583710\n",
       "Rev 2   188.171525   521.834973   514.061761  288.951439  146.517630\n",
       "Rev 3   494.183782   854.548494   850.823832  583.920825  232.056247\n",
       "Rev 4  -261.450581  -548.187825  -557.796475 -419.014532   34.864008\n",
       "Rev 5   636.720309  1064.023907  1123.363809  836.694032  268.932248\n",
       "Rev 6   750.606238  1111.885630   999.905875  749.886691  110.968512\n",
       "Rev 7   192.006462   177.851757     5.243586 -101.733003   31.291266\n",
       "Rev 8   226.293038   349.480633   594.759019  578.870422  172.142183\n",
       "Rev 9   360.407058   428.425383   510.394191  303.911291   32.290891\n",
       "Rev 10  203.227325   150.110383   307.868943  236.721036   60.784820\n",
       "Rev 11 -249.742142  -719.574604  -806.494438 -566.421370  -56.553871"
      ]
     },
     "execution_count": 12,
     "metadata": {},
     "output_type": "execute_result"
    }
   ],
   "source": [
    "tip_displacements['phase']"
   ]
  },
  {
   "cell_type": "markdown",
   "metadata": {},
   "source": [
    "# THATS HOW YOU CALCULATE TIP DISPLACEMENTS USING PYPHASETOA!"
   ]
  }
 ],
 "metadata": {
  "kernelspec": {
   "display_name": "Python 3",
   "language": "python",
   "name": "python3"
  },
  "language_info": {
   "codemirror_mode": {
    "name": "ipython",
    "version": 3
   },
   "file_extension": ".py",
   "mimetype": "text/x-python",
   "name": "python",
   "nbconvert_exporter": "python",
   "pygments_lexer": "ipython3",
   "version": "3.8.1"
  }
 },
 "nbformat": 4,
 "nbformat_minor": 4
}
